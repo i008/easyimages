{
 "cells": [
  {
   "cell_type": "code",
   "execution_count": 2,
   "metadata": {},
   "outputs": [],
   "source": [
    "from easyimages import EasyImageList\n",
    "import torch\n",
    "import numpy as np\n",
    "import matplotlib.pyplot as plt\n",
    "\n",
    "%matplotlib inline"
   ]
  },
  {
   "cell_type": "code",
   "execution_count": 3,
   "metadata": {},
   "outputs": [],
   "source": [
    "k = EasyImageList.from_folder('/media/i008/ssd500/fashion_classify_data/sneakers')\n"
   ]
  },
  {
   "cell_type": "code",
   "execution_count": 4,
   "metadata": {},
   "outputs": [
    {
     "data": {
      "text/plain": [
       "EasyImageObject: 1. adidas_cf-swift-racer-sneaker_weiss_7555000087650_v2.jpg | labels: [] | downloaded: True | size: (1000, 1000) |"
      ]
     },
     "execution_count": 4,
     "metadata": {},
     "output_type": "execute_result"
    }
   ],
   "source": [
    "k[2].download()"
   ]
  },
  {
   "cell_type": "code",
   "execution_count": 33,
   "metadata": {},
   "outputs": [],
   "source": [
    "\n",
    "def change_box_order(boxes, input_order='tlbr', output_order='cwh', target_type=None):\n",
    "    '''Change box order between:\n",
    "    \n",
    "    input_order:\n",
    "    tlbr (top-left/bottom-right, x1y1x2y2)\n",
    "    cwh  (center/width-height, (xywh)) center is in the middle of the box\n",
    "    \n",
    "    valid output order:\n",
    "    all of the above plus:\n",
    "    tlwh (top-left-width-height) this format is common in matplotlib\n",
    "      \n",
    "    '''\n",
    "    if input_order == 'tlwh':\n",
    "        raise NotImplementedError\n",
    "    assert input_order != output_order\n",
    "    assert input_order in ['tlbr','cwh']\n",
    "    assert output_order in ['tlbr','cwh','tlwh']\n",
    "    \n",
    "    if not isinstance(boxes, np.ndarray):\n",
    "        boxes = np.array(boxes)\n",
    "        cat = np.concatenate\n",
    "        stack = np.stack\n",
    "    elif isinstance(boxes, torch.Tensor):\n",
    "        cat = torch.cat\n",
    "        stack = torch.stack\n",
    "    elif isinstance(boxes, np.ndarray):\n",
    "        cat = np.concatenate\n",
    "        stack = np.stack\n",
    "        \n",
    "    if input_order == 'cwh':\n",
    "        a = boxes[:,:2]\n",
    "        b = boxes[:,2:]\n",
    "        boxes = cat([a-b/2,a+b/2], 1)\n",
    "\n",
    "    # transforms from xyxy/tlbr to any\n",
    "    x1y1 = boxes[:,:2]\n",
    "    x2y2 = boxes[:,2:]\n",
    "        \n",
    "    if output_order == 'tlwh':\n",
    "        return cat([x1y1, x2y2 - x1y1], axis=1)\n",
    "   \n",
    "    elif output_order == 'cwh':\n",
    "        boxes = cat([(x1y1+x2y2)/2,x2y2-x1y1+1], 1)\n",
    "        \n",
    "    else:\n",
    "        raise ValueError(\"\")\n",
    "        \n",
    "    return boxes\n",
    "        \n",
    "def vis_image(img, boxes=None, label_names=None, scores=None, box_order='tlbr'):\n",
    "    '''Visualize a color image.\n",
    "    Args:\n",
    "      img: (PIL.Image/tensor) image to visualize.\n",
    "      boxes: (tensor) bounding boxes, sized [#obj, 4].\n",
    "      label_names: (list) label names.\n",
    "      scores: (list) confidence scores.\n",
    "    Reference:\n",
    "      https://github.com/chainer/chainercv/blob/master/chainercv/visualizations/vis_bbox.py\n",
    "      https://github.com/chainer/chainercv/blob/master/chainercv/visualizations/vis_image.py\n",
    "    '''\n",
    "    # Plot image\n",
    "    fig = plt.figure()\n",
    "    ax = fig.add_subplot(1, 1, 1)\n",
    "    if isinstance(img, torch.Tensor):\n",
    "        img = torchvision.transforms.ToPILImage()(img)\n",
    "    ax.imshow(img)\n",
    "    \n",
    "    boxes = change_box_order(boxes, input_order=box_order, output_order='tlwh')\n",
    "    \n",
    "    # Plot boxes\n",
    "    if boxes is not None:\n",
    "        for i, bb in enumerate(boxes):\n",
    "            x,y,w,h = bb\n",
    "            \n",
    "            ax.add_patch(plt.Rectangle(\n",
    "                (x,y), w, h, fill=False, edgecolor='red', linewidth=2))\n",
    "\n",
    "            caption = []\n",
    "            if label_names is not None:\n",
    "                caption.append(label_names[i])\n",
    "\n",
    "            if scores is not None:\n",
    "                caption.append('{:.2f}'.format(scores[i]))\n",
    "\n",
    "            if len(caption) > 0:\n",
    "                ax.text(bb[0]-10, bb[1]-10,\n",
    "                        ': '.join(caption),\n",
    "                        style='italic',\n",
    "                        bbox={'facecolor': 'white', 'alpha': 0.3, 'pad': 2})\n",
    "                \n",
    "    # Show\n",
    "    plt.axis('off')\n",
    "#     plt.show()\n",
    "    return fig"
   ]
  },
  {
   "cell_type": "code",
   "execution_count": 41,
   "metadata": {
    "scrolled": true
   },
   "outputs": [
    {
     "data": {
      "text/plain": [
       "PIL.PngImagePlugin.PngImageFile"
      ]
     },
     "execution_count": 41,
     "metadata": {},
     "output_type": "execute_result"
    }
   ],
   "source": [
    "# fig = vis_image(k[2].image, boxes=[[100,100, 500, 500],[10,10, 30, 30]], label_names=['ok','ok'], scores=[1.0, 1.0])\n",
    "\n",
    "# plt.show()\n",
    "\n",
    "# plt.sto\n",
    "\n",
    "# fig = plt.figure()\n",
    "# ax = fig.add_subplot(1, 1, 1)\n",
    "# ax.imshow(k[2].image)\n",
    "\n",
    "# from easyimages.utils import figure2img\n",
    "\n",
    "# image = figure2img(fig)\n",
    "\n"
   ]
  },
  {
   "cell_type": "code",
   "execution_count": null,
   "metadata": {},
   "outputs": [],
   "source": [
    "\n"
   ]
  },
  {
   "cell_type": "code",
   "execution_count": null,
   "metadata": {},
   "outputs": [],
   "source": [
    "boxes = change_box_order(boxes=torch.Tensor([[100,100,400,500],[50,75,100,200]]), input_order='tlbr', output_order='tlwh')\n",
    "\n",
    "# np.concatenate([a, w, h], 1)\n",
    "# np.concatenate([a, np.expand_dims(w, 0)], 1)\n",
    "\n",
    "# boxes\n",
    "\n",
    "# np.concatenate([a, np.stack([b[:, 0] - a[:, 0], b[:, 1] - a[:, 1]], axis=0)], axis=1)\n",
    "#     if output_order == 'tlwh':\n",
    "#         w = np.expand_dims(b[:, 0] - a[:, 0], 0)\n",
    "#         h = np.expand_dims(b[:, 1] - a[:, 1], 0)\n",
    "#         boxes = cat([a, w, h], 1)\n",
    "\n",
    "\n",
    "# boxes[0]\n",
    "\n",
    "np.concatenate([boxes[0], boxes[1] - boxes[0]], axis=1)"
   ]
  },
  {
   "cell_type": "code",
   "execution_count": null,
   "metadata": {},
   "outputs": [],
   "source": [
    "        current_axis.add_patch(\n",
    "            plt.Rectangle((row.x1, row.y1),\n",
    "                       quit   row.x2 - row.x1,\n",
    "                          row.y2 - row.y1,"
   ]
  },
  {
   "cell_type": "code",
   "execution_count": null,
   "metadata": {},
   "outputs": [],
   "source": [
    "import PIL\n",
    "draw = PIL.ImageDraw.Draw(k[1].image)"
   ]
  },
  {
   "cell_type": "code",
   "execution_count": null,
   "metadata": {},
   "outputs": [],
   "source": [
    "draw.rectangle([300,300,200,200], outline='red')"
   ]
  },
  {
   "cell_type": "code",
   "execution_count": null,
   "metadata": {},
   "outputs": [],
   "source": [
    "        ax.add_patch(\n",
    "            plt.Rectangle((bbox[0], bbox[1]),\n",
    "                          bbox[2] - bbox[0],\n",
    "                          bbox[3] - bbox[1],\n",
    "                          fill=False, edgecolor='g',\n",
    "                          linewidth=0.5, alpha=box_alpha))"
   ]
  },
  {
   "cell_type": "code",
   "execution_count": null,
   "metadata": {},
   "outputs": [],
   "source": [
    "np.arctan(10/20)"
   ]
  }
 ],
 "metadata": {
  "kernelspec": {
   "display_name": "Python [conda env:anaconda3]",
   "language": "python",
   "name": "conda-env-anaconda3-py"
  },
  "language_info": {
   "codemirror_mode": {
    "name": "ipython",
    "version": 3
   },
   "file_extension": ".py",
   "mimetype": "text/x-python",
   "name": "python",
   "nbconvert_exporter": "python",
   "pygments_lexer": "ipython3",
   "version": "3.6.4"
  }
 },
 "nbformat": 4,
 "nbformat_minor": 2
}
